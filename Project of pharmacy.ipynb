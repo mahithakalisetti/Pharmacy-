{
 "cells": [
  {
   "cell_type": "markdown",
   "id": "35daf5ac",
   "metadata": {},
   "source": [
    "# **✅PROJECT TITLE : “Pharmacy”**"
   ]
  },
  {
   "cell_type": "markdown",
   "id": "c7505e56",
   "metadata": {},
   "source": [
    "# **📌 Introduction**\n",
    "\n",
    "This dataset captures pharmacy product sales data across multiple countries, including details about the date of sale, product name, sales representative, quantity shipped, and revenue generated. It consists of 333 records and serves as a valuable resource to analyze sales performance, identify high-performing products, and evaluate regional demand across markets such as the UK, USA, India, and others. The dataset can be used for trend analysis, salesperson evaluation, and product performance monitoring, helping stakeholders make informed business decisions in the pharmaceutical retail sector."
   ]
  },
  {
   "cell_type": "markdown",
   "id": "52afb1e8",
   "metadata": {},
   "source": [
    "# **📋 Project Information**\n",
    "\n",
    "* Dataset Overview\n",
    "\n",
    "  * Rows: 333\n",
    "\n",
    "  * Columns: 6\n",
    "\n",
    "  * Fields:\n",
    "\n",
    "    * Date: Date of transaction\n",
    "\n",
    "    * Product: Name of OTC medicine\n",
    "\n",
    "    * Sales Person: Employee involved in the transaction\n",
    "\n",
    "    * Boxes Shipped: Number of units shipped\n",
    "\n",
    "    * Amount ($): Revenue generated\n",
    "\n",
    "    * Country: Country of transaction\n",
    "\n",
    "* Objective\n",
    "\n",
    "  * Understand sales distribution across countries and products.\n",
    "\n",
    "  * Identify top-performing salespeople.\n",
    "\n",
    "  * Detect peak sales months or seasons.\n",
    "\n"
   ]
  },
  {
   "cell_type": "markdown",
   "id": "e8e99246",
   "metadata": {},
   "source": [
    "# 📥**Import loading dataset**"
   ]
  },
  {
   "cell_type": "code",
   "execution_count": 1,
   "id": "29db0a55",
   "metadata": {},
   "outputs": [],
   "source": [
    "import pandas as pd\n",
    "import numpy as np\n",
    "import matplotlib.pyplot as plt\n",
    "import seaborn as sns\n",
    "import warnings\n",
    "warnings.filterwarnings('ignore')"
   ]
  },
  {
   "cell_type": "code",
   "execution_count": 2,
   "id": "6229b27a",
   "metadata": {},
   "outputs": [
    {
     "data": {
      "text/html": [
       "<div>\n",
       "<style scoped>\n",
       "    .dataframe tbody tr th:only-of-type {\n",
       "        vertical-align: middle;\n",
       "    }\n",
       "\n",
       "    .dataframe tbody tr th {\n",
       "        vertical-align: top;\n",
       "    }\n",
       "\n",
       "    .dataframe thead th {\n",
       "        text-align: right;\n",
       "    }\n",
       "</style>\n",
       "<table border=\"1\" class=\"dataframe\">\n",
       "  <thead>\n",
       "    <tr style=\"text-align: right;\">\n",
       "      <th></th>\n",
       "      <th>Date</th>\n",
       "      <th>Product</th>\n",
       "      <th>Sales Person</th>\n",
       "      <th>Boxes Shipped</th>\n",
       "      <th>Amount ($)</th>\n",
       "      <th>Country</th>\n",
       "    </tr>\n",
       "  </thead>\n",
       "  <tbody>\n",
       "    <tr>\n",
       "      <th>0</th>\n",
       "      <td>2022-02-06</td>\n",
       "      <td>Pain Relief Tablets</td>\n",
       "      <td>Divya Mehra</td>\n",
       "      <td>7</td>\n",
       "      <td>67.43</td>\n",
       "      <td>Australia</td>\n",
       "    </tr>\n",
       "    <tr>\n",
       "      <th>1</th>\n",
       "      <td>2022-02-05</td>\n",
       "      <td>Antiseptic Cream</td>\n",
       "      <td>Nikhil Batra</td>\n",
       "      <td>18</td>\n",
       "      <td>421.46</td>\n",
       "      <td>Canada</td>\n",
       "    </tr>\n",
       "    <tr>\n",
       "      <th>2</th>\n",
       "      <td>2022-02-19</td>\n",
       "      <td>Cough Syrup</td>\n",
       "      <td>Ritika Shah</td>\n",
       "      <td>2</td>\n",
       "      <td>48.25</td>\n",
       "      <td>UK</td>\n",
       "    </tr>\n",
       "    <tr>\n",
       "      <th>3</th>\n",
       "      <td>2022-03-28</td>\n",
       "      <td>Pain Relief Tablets</td>\n",
       "      <td>Nikhil Batra</td>\n",
       "      <td>5</td>\n",
       "      <td>59.89</td>\n",
       "      <td>UK</td>\n",
       "    </tr>\n",
       "    <tr>\n",
       "      <th>4</th>\n",
       "      <td>2022-01-17</td>\n",
       "      <td>Digestive Enzyme</td>\n",
       "      <td>Ritika Shah</td>\n",
       "      <td>8</td>\n",
       "      <td>147.73</td>\n",
       "      <td>USA</td>\n",
       "    </tr>\n",
       "    <tr>\n",
       "      <th>...</th>\n",
       "      <td>...</td>\n",
       "      <td>...</td>\n",
       "      <td>...</td>\n",
       "      <td>...</td>\n",
       "      <td>...</td>\n",
       "      <td>...</td>\n",
       "    </tr>\n",
       "    <tr>\n",
       "      <th>328</th>\n",
       "      <td>2022-02-08</td>\n",
       "      <td>Digestive Enzyme</td>\n",
       "      <td>Sneha Iyer</td>\n",
       "      <td>15</td>\n",
       "      <td>302.46</td>\n",
       "      <td>UK</td>\n",
       "    </tr>\n",
       "    <tr>\n",
       "      <th>329</th>\n",
       "      <td>2022-08-28</td>\n",
       "      <td>Allergy Pills</td>\n",
       "      <td>Aman Verma</td>\n",
       "      <td>3</td>\n",
       "      <td>52.50</td>\n",
       "      <td>India</td>\n",
       "    </tr>\n",
       "    <tr>\n",
       "      <th>330</th>\n",
       "      <td>2022-04-17</td>\n",
       "      <td>Nasal Spray</td>\n",
       "      <td>Divya Mehra</td>\n",
       "      <td>5</td>\n",
       "      <td>65.67</td>\n",
       "      <td>UK</td>\n",
       "    </tr>\n",
       "    <tr>\n",
       "      <th>331</th>\n",
       "      <td>2022-01-05</td>\n",
       "      <td>Eye Drops</td>\n",
       "      <td>Aman Verma</td>\n",
       "      <td>17</td>\n",
       "      <td>247.43</td>\n",
       "      <td>USA</td>\n",
       "    </tr>\n",
       "    <tr>\n",
       "      <th>332</th>\n",
       "      <td>2022-08-11</td>\n",
       "      <td>Digestive Enzyme</td>\n",
       "      <td>Rajesh Patel</td>\n",
       "      <td>3</td>\n",
       "      <td>65.98</td>\n",
       "      <td>UK</td>\n",
       "    </tr>\n",
       "  </tbody>\n",
       "</table>\n",
       "<p>333 rows × 6 columns</p>\n",
       "</div>"
      ],
      "text/plain": [
       "           Date              Product  Sales Person  Boxes Shipped  Amount ($)  \\\n",
       "0    2022-02-06  Pain Relief Tablets   Divya Mehra              7       67.43   \n",
       "1    2022-02-05     Antiseptic Cream  Nikhil Batra             18      421.46   \n",
       "2    2022-02-19          Cough Syrup   Ritika Shah              2       48.25   \n",
       "3    2022-03-28  Pain Relief Tablets  Nikhil Batra              5       59.89   \n",
       "4    2022-01-17     Digestive Enzyme   Ritika Shah              8      147.73   \n",
       "..          ...                  ...           ...            ...         ...   \n",
       "328  2022-02-08     Digestive Enzyme    Sneha Iyer             15      302.46   \n",
       "329  2022-08-28        Allergy Pills    Aman Verma              3       52.50   \n",
       "330  2022-04-17          Nasal Spray   Divya Mehra              5       65.67   \n",
       "331  2022-01-05            Eye Drops    Aman Verma             17      247.43   \n",
       "332  2022-08-11     Digestive Enzyme  Rajesh Patel              3       65.98   \n",
       "\n",
       "       Country  \n",
       "0    Australia  \n",
       "1       Canada  \n",
       "2           UK  \n",
       "3           UK  \n",
       "4          USA  \n",
       "..         ...  \n",
       "328         UK  \n",
       "329      India  \n",
       "330         UK  \n",
       "331        USA  \n",
       "332         UK  \n",
       "\n",
       "[333 rows x 6 columns]"
      ]
     },
     "execution_count": 2,
     "metadata": {},
     "output_type": "execute_result"
    }
   ],
   "source": [
    "data = pd.read_csv(\"pharmacy_otc_sales_data.csv\")\n",
    "data"
   ]
  },
  {
   "cell_type": "markdown",
   "id": "1de916e4",
   "metadata": {},
   "source": [
    "# 🛠️Functions"
   ]
  },
  {
   "cell_type": "markdown",
   "id": "204024cb",
   "metadata": {},
   "source": [
    "↪ Preview (Top 5 columns)"
   ]
  },
  {
   "cell_type": "code",
   "execution_count": 23,
   "id": "9077f4ac",
   "metadata": {},
   "outputs": [
    {
     "data": {
      "text/html": [
       "<div>\n",
       "<style scoped>\n",
       "    .dataframe tbody tr th:only-of-type {\n",
       "        vertical-align: middle;\n",
       "    }\n",
       "\n",
       "    .dataframe tbody tr th {\n",
       "        vertical-align: top;\n",
       "    }\n",
       "\n",
       "    .dataframe thead th {\n",
       "        text-align: right;\n",
       "    }\n",
       "</style>\n",
       "<table border=\"1\" class=\"dataframe\">\n",
       "  <thead>\n",
       "    <tr style=\"text-align: right;\">\n",
       "      <th></th>\n",
       "      <th>Date</th>\n",
       "      <th>Product</th>\n",
       "      <th>Sales Person</th>\n",
       "      <th>Boxes Shipped</th>\n",
       "      <th>Amount ($)</th>\n",
       "      <th>Country</th>\n",
       "    </tr>\n",
       "  </thead>\n",
       "  <tbody>\n",
       "    <tr>\n",
       "      <th>0</th>\n",
       "      <td>2022-02-06</td>\n",
       "      <td>Pain Relief Tablets</td>\n",
       "      <td>Divya Mehra</td>\n",
       "      <td>7</td>\n",
       "      <td>67.43</td>\n",
       "      <td>Australia</td>\n",
       "    </tr>\n",
       "    <tr>\n",
       "      <th>1</th>\n",
       "      <td>2022-02-05</td>\n",
       "      <td>Antiseptic Cream</td>\n",
       "      <td>Nikhil Batra</td>\n",
       "      <td>18</td>\n",
       "      <td>421.46</td>\n",
       "      <td>Canada</td>\n",
       "    </tr>\n",
       "    <tr>\n",
       "      <th>2</th>\n",
       "      <td>2022-02-19</td>\n",
       "      <td>Cough Syrup</td>\n",
       "      <td>Ritika Shah</td>\n",
       "      <td>2</td>\n",
       "      <td>48.25</td>\n",
       "      <td>UK</td>\n",
       "    </tr>\n",
       "    <tr>\n",
       "      <th>3</th>\n",
       "      <td>2022-03-28</td>\n",
       "      <td>Pain Relief Tablets</td>\n",
       "      <td>Nikhil Batra</td>\n",
       "      <td>5</td>\n",
       "      <td>59.89</td>\n",
       "      <td>UK</td>\n",
       "    </tr>\n",
       "    <tr>\n",
       "      <th>4</th>\n",
       "      <td>2022-01-17</td>\n",
       "      <td>Digestive Enzyme</td>\n",
       "      <td>Ritika Shah</td>\n",
       "      <td>8</td>\n",
       "      <td>147.73</td>\n",
       "      <td>USA</td>\n",
       "    </tr>\n",
       "  </tbody>\n",
       "</table>\n",
       "</div>"
      ],
      "text/plain": [
       "         Date              Product  Sales Person  Boxes Shipped  Amount ($)  \\\n",
       "0  2022-02-06  Pain Relief Tablets   Divya Mehra              7       67.43   \n",
       "1  2022-02-05     Antiseptic Cream  Nikhil Batra             18      421.46   \n",
       "2  2022-02-19          Cough Syrup   Ritika Shah              2       48.25   \n",
       "3  2022-03-28  Pain Relief Tablets  Nikhil Batra              5       59.89   \n",
       "4  2022-01-17     Digestive Enzyme   Ritika Shah              8      147.73   \n",
       "\n",
       "     Country  \n",
       "0  Australia  \n",
       "1     Canada  \n",
       "2         UK  \n",
       "3         UK  \n",
       "4        USA  "
      ]
     },
     "execution_count": 23,
     "metadata": {},
     "output_type": "execute_result"
    }
   ],
   "source": [
    "data.head()"
   ]
  },
  {
   "cell_type": "markdown",
   "id": "77140fae",
   "metadata": {},
   "source": [
    "↪  last Rows (Last 5 columns)"
   ]
  },
  {
   "cell_type": "code",
   "execution_count": 24,
   "id": "0f12cac6",
   "metadata": {},
   "outputs": [
    {
     "data": {
      "text/html": [
       "<div>\n",
       "<style scoped>\n",
       "    .dataframe tbody tr th:only-of-type {\n",
       "        vertical-align: middle;\n",
       "    }\n",
       "\n",
       "    .dataframe tbody tr th {\n",
       "        vertical-align: top;\n",
       "    }\n",
       "\n",
       "    .dataframe thead th {\n",
       "        text-align: right;\n",
       "    }\n",
       "</style>\n",
       "<table border=\"1\" class=\"dataframe\">\n",
       "  <thead>\n",
       "    <tr style=\"text-align: right;\">\n",
       "      <th></th>\n",
       "      <th>Date</th>\n",
       "      <th>Product</th>\n",
       "      <th>Sales Person</th>\n",
       "      <th>Boxes Shipped</th>\n",
       "      <th>Amount ($)</th>\n",
       "      <th>Country</th>\n",
       "    </tr>\n",
       "  </thead>\n",
       "  <tbody>\n",
       "    <tr>\n",
       "      <th>328</th>\n",
       "      <td>2022-02-08</td>\n",
       "      <td>Digestive Enzyme</td>\n",
       "      <td>Sneha Iyer</td>\n",
       "      <td>15</td>\n",
       "      <td>302.46</td>\n",
       "      <td>UK</td>\n",
       "    </tr>\n",
       "    <tr>\n",
       "      <th>329</th>\n",
       "      <td>2022-08-28</td>\n",
       "      <td>Allergy Pills</td>\n",
       "      <td>Aman Verma</td>\n",
       "      <td>3</td>\n",
       "      <td>52.50</td>\n",
       "      <td>India</td>\n",
       "    </tr>\n",
       "    <tr>\n",
       "      <th>330</th>\n",
       "      <td>2022-04-17</td>\n",
       "      <td>Nasal Spray</td>\n",
       "      <td>Divya Mehra</td>\n",
       "      <td>5</td>\n",
       "      <td>65.67</td>\n",
       "      <td>UK</td>\n",
       "    </tr>\n",
       "    <tr>\n",
       "      <th>331</th>\n",
       "      <td>2022-01-05</td>\n",
       "      <td>Eye Drops</td>\n",
       "      <td>Aman Verma</td>\n",
       "      <td>17</td>\n",
       "      <td>247.43</td>\n",
       "      <td>USA</td>\n",
       "    </tr>\n",
       "    <tr>\n",
       "      <th>332</th>\n",
       "      <td>2022-08-11</td>\n",
       "      <td>Digestive Enzyme</td>\n",
       "      <td>Rajesh Patel</td>\n",
       "      <td>3</td>\n",
       "      <td>65.98</td>\n",
       "      <td>UK</td>\n",
       "    </tr>\n",
       "  </tbody>\n",
       "</table>\n",
       "</div>"
      ],
      "text/plain": [
       "           Date           Product  Sales Person  Boxes Shipped  Amount ($)  \\\n",
       "328  2022-02-08  Digestive Enzyme    Sneha Iyer             15      302.46   \n",
       "329  2022-08-28     Allergy Pills    Aman Verma              3       52.50   \n",
       "330  2022-04-17       Nasal Spray   Divya Mehra              5       65.67   \n",
       "331  2022-01-05         Eye Drops    Aman Verma             17      247.43   \n",
       "332  2022-08-11  Digestive Enzyme  Rajesh Patel              3       65.98   \n",
       "\n",
       "    Country  \n",
       "328      UK  \n",
       "329   India  \n",
       "330      UK  \n",
       "331     USA  \n",
       "332      UK  "
      ]
     },
     "execution_count": 24,
     "metadata": {},
     "output_type": "execute_result"
    }
   ],
   "source": [
    "data.tail()"
   ]
  },
  {
   "cell_type": "markdown",
   "id": "4d4e5f12",
   "metadata": {},
   "source": [
    "↪ Statistical Analysis"
   ]
  },
  {
   "cell_type": "code",
   "execution_count": 25,
   "id": "7851849c",
   "metadata": {},
   "outputs": [
    {
     "data": {
      "text/html": [
       "<div>\n",
       "<style scoped>\n",
       "    .dataframe tbody tr th:only-of-type {\n",
       "        vertical-align: middle;\n",
       "    }\n",
       "\n",
       "    .dataframe tbody tr th {\n",
       "        vertical-align: top;\n",
       "    }\n",
       "\n",
       "    .dataframe thead th {\n",
       "        text-align: right;\n",
       "    }\n",
       "</style>\n",
       "<table border=\"1\" class=\"dataframe\">\n",
       "  <thead>\n",
       "    <tr style=\"text-align: right;\">\n",
       "      <th></th>\n",
       "      <th>Boxes Shipped</th>\n",
       "      <th>Amount ($)</th>\n",
       "    </tr>\n",
       "  </thead>\n",
       "  <tbody>\n",
       "    <tr>\n",
       "      <th>count</th>\n",
       "      <td>333.000000</td>\n",
       "      <td>333.000000</td>\n",
       "    </tr>\n",
       "    <tr>\n",
       "      <th>mean</th>\n",
       "      <td>10.474474</td>\n",
       "      <td>176.964835</td>\n",
       "    </tr>\n",
       "    <tr>\n",
       "      <th>std</th>\n",
       "      <td>5.955415</td>\n",
       "      <td>119.058556</td>\n",
       "    </tr>\n",
       "    <tr>\n",
       "      <th>min</th>\n",
       "      <td>1.000000</td>\n",
       "      <td>8.090000</td>\n",
       "    </tr>\n",
       "    <tr>\n",
       "      <th>25%</th>\n",
       "      <td>5.000000</td>\n",
       "      <td>75.990000</td>\n",
       "    </tr>\n",
       "    <tr>\n",
       "      <th>50%</th>\n",
       "      <td>11.000000</td>\n",
       "      <td>156.920000</td>\n",
       "    </tr>\n",
       "    <tr>\n",
       "      <th>75%</th>\n",
       "      <td>16.000000</td>\n",
       "      <td>248.770000</td>\n",
       "    </tr>\n",
       "    <tr>\n",
       "      <th>max</th>\n",
       "      <td>20.000000</td>\n",
       "      <td>494.080000</td>\n",
       "    </tr>\n",
       "  </tbody>\n",
       "</table>\n",
       "</div>"
      ],
      "text/plain": [
       "       Boxes Shipped  Amount ($)\n",
       "count     333.000000  333.000000\n",
       "mean       10.474474  176.964835\n",
       "std         5.955415  119.058556\n",
       "min         1.000000    8.090000\n",
       "25%         5.000000   75.990000\n",
       "50%        11.000000  156.920000\n",
       "75%        16.000000  248.770000\n",
       "max        20.000000  494.080000"
      ]
     },
     "execution_count": 25,
     "metadata": {},
     "output_type": "execute_result"
    }
   ],
   "source": [
    "data.describe()"
   ]
  },
  {
   "cell_type": "markdown",
   "id": "f37b85d1",
   "metadata": {},
   "source": [
    "↪ Dimensions (rows, columns)"
   ]
  },
  {
   "cell_type": "code",
   "execution_count": 27,
   "id": "3702c24f",
   "metadata": {},
   "outputs": [
    {
     "data": {
      "text/plain": [
       "(333, 6)"
      ]
     },
     "execution_count": 27,
     "metadata": {},
     "output_type": "execute_result"
    }
   ],
   "source": [
    "data.shape"
   ]
  },
  {
   "cell_type": "markdown",
   "id": "09e67d51",
   "metadata": {},
   "source": [
    "↪ columns of dataset"
   ]
  },
  {
   "cell_type": "code",
   "execution_count": 28,
   "id": "4583e99b",
   "metadata": {},
   "outputs": [
    {
     "data": {
      "text/plain": [
       "Index(['Date', 'Product', 'Sales Person', 'Boxes Shipped', 'Amount ($)',\n",
       "       'Country'],\n",
       "      dtype='object')"
      ]
     },
     "execution_count": 28,
     "metadata": {},
     "output_type": "execute_result"
    }
   ],
   "source": [
    "data.columns"
   ]
  },
  {
   "cell_type": "markdown",
   "id": "65da2869",
   "metadata": {},
   "source": [
    "↪ dtypes of columns"
   ]
  },
  {
   "cell_type": "code",
   "execution_count": 29,
   "id": "3b95354c",
   "metadata": {},
   "outputs": [
    {
     "data": {
      "text/plain": [
       "Date              object\n",
       "Product           object\n",
       "Sales Person      object\n",
       "Boxes Shipped      int64\n",
       "Amount ($)       float64\n",
       "Country           object\n",
       "dtype: object"
      ]
     },
     "execution_count": 29,
     "metadata": {},
     "output_type": "execute_result"
    }
   ],
   "source": [
    "data.dtypes"
   ]
  },
  {
   "cell_type": "markdown",
   "id": "c12ef217",
   "metadata": {},
   "source": [
    "↪ Structure & null values"
   ]
  },
  {
   "cell_type": "code",
   "execution_count": 3,
   "id": "60927ff4",
   "metadata": {},
   "outputs": [
    {
     "name": "stdout",
     "output_type": "stream",
     "text": [
      "<class 'pandas.core.frame.DataFrame'>\n",
      "RangeIndex: 333 entries, 0 to 332\n",
      "Data columns (total 6 columns):\n",
      " #   Column         Non-Null Count  Dtype  \n",
      "---  ------         --------------  -----  \n",
      " 0   Date           333 non-null    object \n",
      " 1   Product        333 non-null    object \n",
      " 2   Sales Person   333 non-null    object \n",
      " 3   Boxes Shipped  333 non-null    int64  \n",
      " 4   Amount ($)     333 non-null    float64\n",
      " 5   Country        333 non-null    object \n",
      "dtypes: float64(1), int64(1), object(4)\n",
      "memory usage: 15.7+ KB\n"
     ]
    }
   ],
   "source": [
    "data.info()"
   ]
  },
  {
   "cell_type": "markdown",
   "id": "7ff7659b",
   "metadata": {},
   "source": [
    "↪ To check the null values"
   ]
  },
  {
   "cell_type": "code",
   "execution_count": 4,
   "id": "ee5e6dd2",
   "metadata": {},
   "outputs": [
    {
     "data": {
      "text/plain": [
       "Date             0\n",
       "Product          0\n",
       "Sales Person     0\n",
       "Boxes Shipped    0\n",
       "Amount ($)       0\n",
       "Country          0\n",
       "dtype: int64"
      ]
     },
     "execution_count": 4,
     "metadata": {},
     "output_type": "execute_result"
    }
   ],
   "source": [
    "data.isnull().sum()"
   ]
  },
  {
   "cell_type": "markdown",
   "id": "dc2dd1f8",
   "metadata": {},
   "source": [
    "↪ To check the duplicated values"
   ]
  },
  {
   "cell_type": "code",
   "execution_count": 5,
   "id": "a118b889",
   "metadata": {},
   "outputs": [
    {
     "data": {
      "text/plain": [
       "np.int64(0)"
      ]
     },
     "execution_count": 5,
     "metadata": {},
     "output_type": "execute_result"
    }
   ],
   "source": [
    "data.duplicated().sum()"
   ]
  },
  {
   "cell_type": "markdown",
   "id": "b9ca6ced",
   "metadata": {},
   "source": [
    "↪ Rename the Columns in dataset"
   ]
  },
  {
   "cell_type": "code",
   "execution_count": 6,
   "id": "d32bb9e1",
   "metadata": {},
   "outputs": [
    {
     "data": {
      "text/html": [
       "<div>\n",
       "<style scoped>\n",
       "    .dataframe tbody tr th:only-of-type {\n",
       "        vertical-align: middle;\n",
       "    }\n",
       "\n",
       "    .dataframe tbody tr th {\n",
       "        vertical-align: top;\n",
       "    }\n",
       "\n",
       "    .dataframe thead th {\n",
       "        text-align: right;\n",
       "    }\n",
       "</style>\n",
       "<table border=\"1\" class=\"dataframe\">\n",
       "  <thead>\n",
       "    <tr style=\"text-align: right;\">\n",
       "      <th></th>\n",
       "      <th>Date</th>\n",
       "      <th>Product</th>\n",
       "      <th>Sales Person</th>\n",
       "      <th>Boxes Shipped</th>\n",
       "      <th>Amount ($)</th>\n",
       "      <th>Country</th>\n",
       "    </tr>\n",
       "  </thead>\n",
       "  <tbody>\n",
       "    <tr>\n",
       "      <th>0</th>\n",
       "      <td>2022-02-06</td>\n",
       "      <td>Pain Relief Tablets</td>\n",
       "      <td>Divya Mehra</td>\n",
       "      <td>7</td>\n",
       "      <td>67.43</td>\n",
       "      <td>Australia</td>\n",
       "    </tr>\n",
       "    <tr>\n",
       "      <th>1</th>\n",
       "      <td>2022-02-05</td>\n",
       "      <td>Antiseptic Cream</td>\n",
       "      <td>Nikhil Batra</td>\n",
       "      <td>18</td>\n",
       "      <td>421.46</td>\n",
       "      <td>Canada</td>\n",
       "    </tr>\n",
       "    <tr>\n",
       "      <th>2</th>\n",
       "      <td>2022-02-19</td>\n",
       "      <td>Cough Syrup</td>\n",
       "      <td>Ritika Shah</td>\n",
       "      <td>2</td>\n",
       "      <td>48.25</td>\n",
       "      <td>UK</td>\n",
       "    </tr>\n",
       "    <tr>\n",
       "      <th>3</th>\n",
       "      <td>2022-03-28</td>\n",
       "      <td>Pain Relief Tablets</td>\n",
       "      <td>Nikhil Batra</td>\n",
       "      <td>5</td>\n",
       "      <td>59.89</td>\n",
       "      <td>UK</td>\n",
       "    </tr>\n",
       "    <tr>\n",
       "      <th>4</th>\n",
       "      <td>2022-01-17</td>\n",
       "      <td>Digestive Enzyme</td>\n",
       "      <td>Ritika Shah</td>\n",
       "      <td>8</td>\n",
       "      <td>147.73</td>\n",
       "      <td>USA</td>\n",
       "    </tr>\n",
       "    <tr>\n",
       "      <th>...</th>\n",
       "      <td>...</td>\n",
       "      <td>...</td>\n",
       "      <td>...</td>\n",
       "      <td>...</td>\n",
       "      <td>...</td>\n",
       "      <td>...</td>\n",
       "    </tr>\n",
       "    <tr>\n",
       "      <th>328</th>\n",
       "      <td>2022-02-08</td>\n",
       "      <td>Digestive Enzyme</td>\n",
       "      <td>Sneha Iyer</td>\n",
       "      <td>15</td>\n",
       "      <td>302.46</td>\n",
       "      <td>UK</td>\n",
       "    </tr>\n",
       "    <tr>\n",
       "      <th>329</th>\n",
       "      <td>2022-08-28</td>\n",
       "      <td>Allergy Pills</td>\n",
       "      <td>Aman Verma</td>\n",
       "      <td>3</td>\n",
       "      <td>52.50</td>\n",
       "      <td>India</td>\n",
       "    </tr>\n",
       "    <tr>\n",
       "      <th>330</th>\n",
       "      <td>2022-04-17</td>\n",
       "      <td>Nasal Spray</td>\n",
       "      <td>Divya Mehra</td>\n",
       "      <td>5</td>\n",
       "      <td>65.67</td>\n",
       "      <td>UK</td>\n",
       "    </tr>\n",
       "    <tr>\n",
       "      <th>331</th>\n",
       "      <td>2022-01-05</td>\n",
       "      <td>Eye Drops</td>\n",
       "      <td>Aman Verma</td>\n",
       "      <td>17</td>\n",
       "      <td>247.43</td>\n",
       "      <td>USA</td>\n",
       "    </tr>\n",
       "    <tr>\n",
       "      <th>332</th>\n",
       "      <td>2022-08-11</td>\n",
       "      <td>Digestive Enzyme</td>\n",
       "      <td>Rajesh Patel</td>\n",
       "      <td>3</td>\n",
       "      <td>65.98</td>\n",
       "      <td>UK</td>\n",
       "    </tr>\n",
       "  </tbody>\n",
       "</table>\n",
       "<p>333 rows × 6 columns</p>\n",
       "</div>"
      ],
      "text/plain": [
       "           Date              Product  Sales Person  Boxes Shipped  Amount ($)  \\\n",
       "0    2022-02-06  Pain Relief Tablets   Divya Mehra              7       67.43   \n",
       "1    2022-02-05     Antiseptic Cream  Nikhil Batra             18      421.46   \n",
       "2    2022-02-19          Cough Syrup   Ritika Shah              2       48.25   \n",
       "3    2022-03-28  Pain Relief Tablets  Nikhil Batra              5       59.89   \n",
       "4    2022-01-17     Digestive Enzyme   Ritika Shah              8      147.73   \n",
       "..          ...                  ...           ...            ...         ...   \n",
       "328  2022-02-08     Digestive Enzyme    Sneha Iyer             15      302.46   \n",
       "329  2022-08-28        Allergy Pills    Aman Verma              3       52.50   \n",
       "330  2022-04-17          Nasal Spray   Divya Mehra              5       65.67   \n",
       "331  2022-01-05            Eye Drops    Aman Verma             17      247.43   \n",
       "332  2022-08-11     Digestive Enzyme  Rajesh Patel              3       65.98   \n",
       "\n",
       "       Country  \n",
       "0    Australia  \n",
       "1       Canada  \n",
       "2           UK  \n",
       "3           UK  \n",
       "4          USA  \n",
       "..         ...  \n",
       "328         UK  \n",
       "329      India  \n",
       "330         UK  \n",
       "331        USA  \n",
       "332         UK  \n",
       "\n",
       "[333 rows x 6 columns]"
      ]
     },
     "execution_count": 6,
     "metadata": {},
     "output_type": "execute_result"
    }
   ],
   "source": [
    "data.rename(columns={'Boxes shipped':'Boxes_shipped'},inplace=True)\n",
    "data"
   ]
  },
  {
   "cell_type": "markdown",
   "id": "368b2a87",
   "metadata": {},
   "source": [
    "# 📈 **Statistical Information**"
   ]
  },
  {
   "cell_type": "markdown",
   "id": "ff93e9a2",
   "metadata": {},
   "source": [
    "# Variance values"
   ]
  },
  {
   "cell_type": "code",
   "execution_count": 7,
   "id": "7faed60c",
   "metadata": {},
   "outputs": [
    {
     "name": "stdout",
     "output_type": "stream",
     "text": [
      "14174.939717819023\n"
     ]
    }
   ],
   "source": [
    "variance=data['Amount ($)'].var()\n",
    "print(variance)"
   ]
  },
  {
   "cell_type": "code",
   "execution_count": 8,
   "id": "902dbd4e",
   "metadata": {},
   "outputs": [
    {
     "name": "stdout",
     "output_type": "stream",
     "text": [
      "count              333\n",
      "unique               7\n",
      "top       Rajesh Patel\n",
      "freq                55\n",
      "Name: Sales Person, dtype: object\n"
     ]
    }
   ],
   "source": [
    "print(data['Sales Person'].describe())"
   ]
  },
  {
   "cell_type": "code",
   "execution_count": 9,
   "id": "014d2a42",
   "metadata": {},
   "outputs": [
    {
     "data": {
      "text/plain": [
       "np.float64(0.018414604769020397)"
      ]
     },
     "execution_count": 9,
     "metadata": {},
     "output_type": "execute_result"
    }
   ],
   "source": [
    "data['Boxes Shipped'].skew()"
   ]
  },
  {
   "cell_type": "code",
   "execution_count": 10,
   "id": "92c63ae2",
   "metadata": {},
   "outputs": [
    {
     "data": {
      "text/plain": [
       "np.float64(-1.2866673883113857)"
      ]
     },
     "execution_count": 10,
     "metadata": {},
     "output_type": "execute_result"
    }
   ],
   "source": [
    "data['Boxes Shipped'].kurtosis()"
   ]
  },
  {
   "cell_type": "code",
   "execution_count": 11,
   "id": "d6810556",
   "metadata": {},
   "outputs": [
    {
     "name": "stdout",
     "output_type": "stream",
     "text": [
      "274\n"
     ]
    }
   ],
   "source": [
    "max_index=data['Amount ($)'].idxmax()\n",
    "print(max_index)"
   ]
  },
  {
   "cell_type": "code",
   "execution_count": 12,
   "id": "9cb8a48c",
   "metadata": {},
   "outputs": [
    {
     "name": "stdout",
     "output_type": "stream",
     "text": [
      "80\n"
     ]
    }
   ],
   "source": [
    "min_index=data['Amount ($)'].idxmin()\n",
    "print(min_index)"
   ]
  },
  {
   "cell_type": "markdown",
   "id": "6f763aa4",
   "metadata": {},
   "source": [
    "#  Chi2 values"
   ]
  },
  {
   "cell_type": "code",
   "execution_count": 13,
   "id": "70050d55",
   "metadata": {},
   "outputs": [],
   "source": [
    "import pandas as pd\n",
    "from scipy.stats import chi2_contingency"
   ]
  },
  {
   "cell_type": "code",
   "execution_count": 14,
   "id": "581b8913",
   "metadata": {},
   "outputs": [],
   "source": [
    "contingency_table = pd.crosstab(data['Product'], data['Country'])"
   ]
  },
  {
   "cell_type": "code",
   "execution_count": 15,
   "id": "0549a727",
   "metadata": {},
   "outputs": [
    {
     "name": "stdout",
     "output_type": "stream",
     "text": [
      "Chi-square Statistic: 14.708537657455452\n",
      "Degrees of Freedom: 24\n",
      "P-value: 0.9289977884103771\n"
     ]
    }
   ],
   "source": [
    "chi2_stat, p_val, dof, expected = chi2_contingency(contingency_table)\n",
    "\n",
    "print(\"Chi-square Statistic:\", chi2_stat)\n",
    "print(\"Degrees of Freedom:\", dof)\n",
    "print(\"P-value:\", p_val)\n"
   ]
  },
  {
   "cell_type": "code",
   "execution_count": 16,
   "id": "c1be7106",
   "metadata": {},
   "outputs": [],
   "source": [
    "india_sales = data[data['Country'] == 'India']['Amount ($)']\n",
    "usa_sales = data[data['Country'] == 'USA']['Amount ($)']"
   ]
  },
  {
   "cell_type": "code",
   "execution_count": 17,
   "id": "473a08a8",
   "metadata": {},
   "outputs": [
    {
     "data": {
      "text/plain": [
       "np.float64(176.96483483483485)"
      ]
     },
     "execution_count": 17,
     "metadata": {},
     "output_type": "execute_result"
    }
   ],
   "source": [
    "data['Amount ($)'].mean()"
   ]
  },
  {
   "cell_type": "markdown",
   "id": "8e278944",
   "metadata": {},
   "source": [
    "# T-test values"
   ]
  },
  {
   "cell_type": "code",
   "execution_count": 18,
   "id": "41fe82e3",
   "metadata": {},
   "outputs": [],
   "source": [
    "import pandas as pd\n",
    "from scipy.stats import ttest_ind"
   ]
  },
  {
   "cell_type": "code",
   "execution_count": 19,
   "id": "4cf4d655",
   "metadata": {},
   "outputs": [
    {
     "name": "stdout",
     "output_type": "stream",
     "text": [
      "T-statistic: -0.4766380751918002\n",
      "P-value: 0.6343798248234834\n"
     ]
    }
   ],
   "source": [
    "t_stat, p_val = ttest_ind(india_sales, usa_sales, equal_var=False)\n",
    "\n",
    "print(\"T-statistic:\", t_stat)\n",
    "print(\"P-value:\", p_val)"
   ]
  },
  {
   "cell_type": "markdown",
   "id": "628f5f6f",
   "metadata": {},
   "source": [
    "# 📊 **Visualization**"
   ]
  },
  {
   "cell_type": "markdown",
   "id": "c616ad67",
   "metadata": {},
   "source": [
    "# **Bar Plot**"
   ]
  },
  {
   "cell_type": "code",
   "execution_count": 20,
   "id": "b5dbd914",
   "metadata": {},
   "outputs": [
    {
     "data": {
      "image/png": "[encoded data removed]",
      "text/plain": [
       "<Figure size 1500x800 with 1 Axes>"
      ]
     },
     "metadata": {},
     "output_type": "display_data"
    }
   ],
   "source": [
    "plt.figure(figsize=(15,8))\n",
    "sns.barplot(x='Product', y='Amount ($)', data=data, ci=None,palette='dark:violet')\n",
    "plt.title(\"Distribution of Product by Amount ($)\")\n",
    "plt.xlabel(\"Product\")\n",
    "plt.ylabel(\"Amount ($)\")\n",
    "plt.show()"
   ]
  },
  {
   "cell_type": "markdown",
   "id": "43219cf4",
   "metadata": {},
   "source": [
    "# **Line Plot**"
   ]
  },
  {
   "cell_type": "code",
   "execution_count": 21,
   "id": "e83b3b03",
   "metadata": {},
   "outputs": [
    {
     "data": {
      "image/png": "[encoded data removed]",
      "text/plain": [
       "<Figure size 800x500 with 1 Axes>"
      ]
     },
     "metadata": {},
     "output_type": "display_data"
    }
   ],
   "source": [
    "plt.figure(figsize=(8,5))\n",
    "sns.lineplot(x='Sales Person', y='Boxes Shipped', data=data, ci=None)\n",
    "plt.title(\"Distribution of Sales Person by Boxes shipped\")\n",
    "plt.xlabel(\"sales Person\")\n",
    "plt.ylabel(\"Boxes Shipped\")\n",
    "plt.show()"
   ]
  },
  {
   "cell_type": "markdown",
   "id": "56dcad9d",
   "metadata": {},
   "source": [
    "# **Pie Plot**"
   ]
  },
  {
   "cell_type": "code",
   "execution_count": 22,
   "id": "e0c6e6f4",
   "metadata": {},
   "outputs": [
    {
     "data": {
      "image/png": "[encoded data removed]",
      "text/plain": [
       "<Figure size 600x600 with 1 Axes>"
      ]
     },
     "metadata": {},
     "output_type": "display_data"
    }
   ],
   "source": [
    "phone_counts = data['Country'].value_counts()\n",
    "plt.figure(figsize=(6,6))\n",
    "plt.pie(phone_counts, labels=phone_counts.index, autopct='%1.1f%%', startangle=140,colors = [\"#A464B1\", \"#8F34C4\", \"#701A97\", \"#72397E\",\"#6C4F77\"],shadow=True)\n",
    "plt.title('Phone Service Distribution')\n",
    "plt.show()"
   ]
  },
  {
   "cell_type": "markdown",
   "id": "476b1bba",
   "metadata": {},
   "source": [
    "# 📝 Report & Analysis \n",
    "\n",
    "1️⃣ **Sales Performance by Product**\n",
    "\n",
    "Identify top-selling products based on revenue and box count.\n",
    "\n",
    "Products like Pain Relief Tablets, Digestive Enzyme, \n",
    "\n",
    "and Antiseptic Cream often show high sales volumes.\n",
    "\n",
    "\n",
    "2️⃣ **Revenue by Country**\n",
    "\n",
    "Analyze which countries contribute the most to total revenue.\n",
    "\n",
    "Typically, countries like UK, USA, and India lead in sales.\n",
    "\n",
    "\n",
    "3️⃣ **Top Salespeople***\n",
    "\n",
    "Rank sales personnel by total sales amount.\n",
    "\n",
    "Determine which employees are consistently high performers, e.g., Nikhil Batra, Divya Mehra, and Ritika Shah.\n",
    "\n",
    "\n",
    "4️⃣ **Monthly Sales Trend**\n",
    "\n",
    "Use the Date column to group data by month.\n",
    "\n",
    "Plot monthly revenue to detect seasonal trends or sales spikes (e.g., higher sales in January or August).\n",
    "\n",
    "\n",
    "5️⃣ **Average Revenue per Box**\n",
    "\n",
    "Calculate the average price per box for each product to evaluate pricing strategies.\n",
    "\n",
    "\n",
    "6️⃣ **Country-wise Product Preference**\n",
    "\n",
    "Compare which products are preferred in different countries. For example:\n",
    "\n",
    "Cough Syrup might be more popular in the UK, while Eye Drops sell better in the USA.\n",
    "\n",
    "\n",
    "\n",
    "# 🎯 **Methodology**\n",
    "\n",
    "Step 1: Data Preprocessing\n",
    "\n",
    "* Convert Date column to datetime.\n",
    "\n",
    "* Check for missing values.\n",
    "\n",
    "* Remove duplicates if any.\n",
    "\n",
    "* Create new columns like Month and Year for time-series analysis.\n",
    "\n",
    "Step 2: Exploratory Data Analysis (EDA)\n",
    "\n",
    "* Descriptive Statistics → mean, median, sum of sales.\n",
    "\n",
    "* Top Products → which products sell the most.\n",
    "\n",
    "* Country-wise Sales → compare sales across countries.\n",
    "\n",
    "* Salesperson Performance → find top contributors.\n",
    "\n",
    "* Monthly Trend → identify peak and low months.\n",
    "\n",
    "\n",
    "\n",
    "\n",
    "\n",
    "\n",
    "\n",
    "# 📈 Suggested Visualizations\n",
    "\n",
    "Bar chart: Sales revenue by product\n",
    "\n",
    "Pie chart: Country-wise sales distribution\n",
    "\n",
    "Line chart: Monthly revenue trend\n",
    "\n",
    "Heatmap: Salesperson performance vs. country\n",
    "\n",
    "\n",
    "\n",
    "\n",
    "# 📌 Key Insights\n",
    "\n",
    "A few products dominate revenue despite lower volume — focus marketing here.\n",
    "\n",
    "Some salespeople outperform consistently — potential for mentoring or bonus programs.\n",
    "\n",
    "Country-wise preferences show scope for localized campaigns.\n",
    "\n",
    "\n",
    "\n",
    "\n",
    "# 📎 Conclusion\n",
    "\n",
    "\n",
    "The analysis of the pharmacy OTC (Over-the-Counter) sales dataset provides a comprehensive view of product performance, market distribution, and sales trends across multiple regions. With 333 transactions recorded in 2022, the dataset highlights several key business insights:\n",
    "\n",
    "* Top Products and Revenue Drivers : \n",
    "\n",
    "    Pain Relief Tablets, Antiseptic Cream, and Digestive Enzyme, contribute a significant portion of overall revenue, indicating strong market demand for pain relief and digestive health products.\n",
    "\n",
    "* Geographical Sales Trends: \n",
    "\n",
    "    Countries like the UK, USA, and India emerged as the largest revenue contributors. These insights can help optimize inventory and focus marketing campaigns in high-demand regions.\n",
    "\n",
    "* Salesperson Performance:\n",
    "\n",
    "    Salespersons like Nikhil Batra, Divya Mehra, and Ritika Shah consistently achieved higher sales volumes, showcasing potential for recognition, incentive programs, or strategy sharing to improve team performance.\n",
    "\n",
    "* Seasonality and Demand Patterns:\n",
    "\n",
    "    Monthly trend analysis shows fluctuations in demand, with certain months experiencing higher orders. This can guide forecasting, stocking strategies, and promotional planning.\n",
    "\n",
    "* Revenue Optimization: \n",
    "\n",
    "    By evaluating average revenue per box, the business can fine-tune pricing strategies, maximize margins, and ensure product competitiveness in different regions."
   ]
  }
 ],
 "metadata": {
  "kernelspec": {
   "display_name": "Python 3",
   "language": "python",
   "name": "python3"
  },
  "language_info": {
   "codemirror_mode": {
    "name": "ipython",
    "version": 3
   },
   "file_extension": ".py",
   "mimetype": "text/x-python",
   "name": "python",
   "nbconvert_exporter": "python",
   "pygments_lexer": "ipython3",
   "version": "3.13.5"
  }
 },
 "nbformat": 4,
 "nbformat_minor": 5
}
